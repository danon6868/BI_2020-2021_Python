{
 "cells": [
  {
   "cell_type": "code",
   "execution_count": 1,
   "metadata": {},
   "outputs": [],
   "source": [
    "import os\n",
    "import cv2\n",
    "import numpy as np"
   ]
  },
  {
   "cell_type": "code",
   "execution_count": 61,
   "metadata": {},
   "outputs": [
    {
     "data": {
      "text/plain": [
       "True"
      ]
     },
     "execution_count": 61,
     "metadata": {},
     "output_type": "execute_result"
    }
   ],
   "source": [
    "path = 'data/moe_era.jpg'\n",
    "image = cv2.imread(path)\n",
    "gray_image = cv2.imread(path, 0)\n",
    "blur_image = cv2.medianBlur(gray_image, 3)\n",
    "try:\n",
    "    circles = cv2.HoughCircles(blur_image, cv2.HOUGH_GRADIENT, 1, 100, param2=25,\n",
    "                               minRadius=65, maxRadius=80)\n",
    "    circles = np.uint16(np.around(circles))\n",
    "    for circ in circles[0, :]:\n",
    "        # draw the outer circle\n",
    "        cv2.circle(image, (circ[0], circ[1]), circ[2], (0, 0, 0), 2)\n",
    "# If no circles are found\n",
    "except TypeError:\n",
    "    pass\n",
    "\n",
    "cv2.imwrite('circles.jpg', image)"
   ]
  }
 ],
 "metadata": {
  "kernelspec": {
   "display_name": "Python 3",
   "language": "python",
   "name": "python3"
  },
  "language_info": {
   "codemirror_mode": {
    "name": "ipython",
    "version": 3
   },
   "file_extension": ".py",
   "mimetype": "text/x-python",
   "name": "python",
   "nbconvert_exporter": "python",
   "pygments_lexer": "ipython3",
   "version": "3.8.5"
  }
 },
 "nbformat": 4,
 "nbformat_minor": 4
}
