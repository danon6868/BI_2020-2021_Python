{
 "cells": [
  {
   "cell_type": "code",
   "execution_count": 1,
   "metadata": {},
   "outputs": [],
   "source": [
    "import numpy as np\n",
    "from PIL import Image, ImageFilter"
   ]
  },
  {
   "cell_type": "markdown",
   "metadata": {},
   "source": [
    "## Brightness filter"
   ]
  },
  {
   "cell_type": "code",
   "execution_count": 2,
   "metadata": {},
   "outputs": [],
   "source": [
    "def bright_filter(file_name, brightness=0.7, result_name='', return_image=True):\n",
    "    source = Image.open(file_name)\n",
    "    result = Image.new('RGB', source.size)\n",
    "    for x in range(source.size[0]):\n",
    "        for y in range(source.size[1]):\n",
    "            r, g, b = source.getpixel((x, y))\n",
    "\n",
    "            red = int(r * brightness)\n",
    "            red = min(255, max(0, red))\n",
    "\n",
    "            green = int(g * brightness)\n",
    "            green = min(255, max(0, green))\n",
    "\n",
    "            blue = int(b * brightness)\n",
    "            blue = min(255, max(0, blue))\n",
    "\n",
    "            result.putpixel((x, y), (red, green, blue))\n",
    "    result.save(f'result_images/{result_name}bf_out_{file_name[5:]}', 'JPEG')\n",
    "    \n",
    "    return result"
   ]
  },
  {
   "cell_type": "markdown",
   "metadata": {},
   "source": [
    "## Negative filter"
   ]
  },
  {
   "cell_type": "code",
   "execution_count": 3,
   "metadata": {},
   "outputs": [],
   "source": [
    "def negative(file_name, result_name='', return_image=True):\n",
    "    source = Image.open(file_name)\n",
    "    result = Image.new('RGB', source.size)\n",
    "    for x in range(source.size[0]):\n",
    "        for y in range(source.size[1]):\n",
    "            r, g, b = source.getpixel((x, y))\n",
    "            result.putpixel((x, y), (255 - r, 255 - g, 255 - b))\n",
    "    result.save(f'result_images/{result_name}nf_out_{file_name[5:]}', 'JPEG')\n",
    "    \n",
    "    return result"
   ]
  },
  {
   "cell_type": "markdown",
   "metadata": {},
   "source": [
    "## Black-white filter"
   ]
  },
  {
   "cell_type": "code",
   "execution_count": 4,
   "metadata": {},
   "outputs": [],
   "source": [
    "def black_white(file_name, brightness=0.8, result_name='', return_image=True):\n",
    "    source = Image.open(file_name)\n",
    "    result = Image.new('RGB', source.size)\n",
    "    separator = 255 / brightness / 2 * 3\n",
    "    for x in range(source.size[0]):\n",
    "        for y in range(source.size[1]):\n",
    "            r, g, b = source.getpixel((x, y))\n",
    "            total = r + g + b\n",
    "            if total > separator:\n",
    "                result.putpixel((x, y), (255, 255, 255))\n",
    "            else:\n",
    "                result.putpixel((x, y), (0, 0, 0))\n",
    "    result.save(f'result_images/{result_name}bwf_out_{file_name[5:]}', 'JPEG')\n",
    "    \n",
    "    return result"
   ]
  },
  {
   "cell_type": "markdown",
   "metadata": {},
   "source": [
    "## Gray scale filter"
   ]
  },
  {
   "cell_type": "code",
   "execution_count": 5,
   "metadata": {},
   "outputs": [],
   "source": [
    "def gray_scale(file_name, result_name='', return_image=True):\n",
    "    source = Image.open(file_name)\n",
    "    result = Image.new('RGB', source.size)\n",
    "    for x in range(source.size[0]):\n",
    "        for y in range(source.size[1]):\n",
    "            r, g, b = source.getpixel((x, y))\n",
    "            gray = int(r * 0.2126 + g * 0.7152 + b * 0.0722)\n",
    "            result.putpixel((x, y), (gray, gray, gray))\n",
    "    result.save(f'result_images/{result_name}gsf_out_{file_name[5:]}', 'JPEG')\n",
    "    \n",
    "    return result"
   ]
  },
  {
   "cell_type": "markdown",
   "metadata": {},
   "source": [
    "## Sepia filter"
   ]
  },
  {
   "cell_type": "code",
   "execution_count": 6,
   "metadata": {},
   "outputs": [],
   "source": [
    "def sepia(file_name, result_name='', return_image=True):\n",
    "    source = Image.open(file_name)\n",
    "    result = Image.new('RGB', source.size)\n",
    "    for x in range(source.size[0]):\n",
    "        for y in range(source.size[1]):\n",
    "            r, g, b = source.getpixel((x, y))\n",
    "            red = int(r * 0.393 + g * 0.769 + b * 0.189)\n",
    "            green = int(r * 0.349 + g * 0.686 + b * 0.168)\n",
    "            blue = int(r * 0.272 + g * 0.534 + b * 0.131)\n",
    "            result.putpixel((x, y), (red, green, blue))\n",
    "    result.save(f'result_images/{result_name}spf_out_{file_name[5:]}', 'JPEG')\n",
    "    \n",
    "    return result"
   ]
  },
  {
   "cell_type": "code",
   "execution_count": 7,
   "metadata": {},
   "outputs": [],
   "source": [
    "filters = [bright_filter, negative,\n",
    "           black_white, gray_scale,\n",
    "           sepia]\n",
    "\n",
    "for filt in filters:\n",
    "    filt('data/moe_era.jpg', return_image=False)\n",
    "    filt('data/dinner_moe_era.jpg', return_image=False)"
   ]
  },
  {
   "cell_type": "code",
   "execution_count": null,
   "metadata": {},
   "outputs": [],
   "source": []
  }
 ],
 "metadata": {
  "kernelspec": {
   "display_name": "Python 3",
   "language": "python",
   "name": "python3"
  },
  "language_info": {
   "codemirror_mode": {
    "name": "ipython",
    "version": 3
   },
   "file_extension": ".py",
   "mimetype": "text/x-python",
   "name": "python",
   "nbconvert_exporter": "python",
   "pygments_lexer": "ipython3",
   "version": "3.8.5"
  }
 },
 "nbformat": 4,
 "nbformat_minor": 4
}
